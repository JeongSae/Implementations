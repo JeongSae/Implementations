{
 "cells": [
  {
   "cell_type": "code",
   "execution_count": 1,
   "id": "f0f25c24",
   "metadata": {},
   "outputs": [],
   "source": [
    "import numpy as np\n",
    "import tensorflow as tf\n",
    "import matplotlib.pyplot as plt\n",
    "from tensorflow.keras import layers"
   ]
  },
  {
   "cell_type": "markdown",
   "id": "fb0b7061",
   "metadata": {},
   "source": [
    "# FCN (based VGG16)\n",
    "\n",
    "\n",
    "1. VGG16의 FC layer를 convolutionalization을 통해 1x1 convolution layer로 변환\n",
    "\n",
    "2. 구성된 VGG16과 Up-sampling layer를 이어붙혀 FCN32 구현\n",
    "\n",
    "3. 전체 가중치를 load하여, 계층에 대해 가중치 적용"
   ]
  },
  {
   "cell_type": "code",
   "execution_count": 2,
   "id": "6b86bf61",
   "metadata": {
    "scrolled": false
   },
   "outputs": [
    {
     "name": "stdout",
     "output_type": "stream",
     "text": [
      "Model: \"vgg16\"\n",
      "_________________________________________________________________\n",
      "Layer (type)                 Output Shape              Param #   \n",
      "=================================================================\n",
      "input_1 (InputLayer)         [(None, 224, 224, 3)]     0         \n",
      "_________________________________________________________________\n",
      "block1_conv1 (Conv2D)        (None, 224, 224, 64)      1792      \n",
      "_________________________________________________________________\n",
      "block1_conv2 (Conv2D)        (None, 224, 224, 64)      36928     \n",
      "_________________________________________________________________\n",
      "block1_pool (MaxPooling2D)   (None, 112, 112, 64)      0         \n",
      "_________________________________________________________________\n",
      "block2_conv1 (Conv2D)        (None, 112, 112, 128)     73856     \n",
      "_________________________________________________________________\n",
      "block2_conv2 (Conv2D)        (None, 112, 112, 128)     147584    \n",
      "_________________________________________________________________\n",
      "block2_pool (MaxPooling2D)   (None, 56, 56, 128)       0         \n",
      "_________________________________________________________________\n",
      "block3_conv1 (Conv2D)        (None, 56, 56, 256)       295168    \n",
      "_________________________________________________________________\n",
      "block3_conv2 (Conv2D)        (None, 56, 56, 256)       590080    \n",
      "_________________________________________________________________\n",
      "block3_conv3 (Conv2D)        (None, 56, 56, 256)       590080    \n",
      "_________________________________________________________________\n",
      "block3_pool (MaxPooling2D)   (None, 28, 28, 256)       0         \n",
      "_________________________________________________________________\n",
      "block4_conv1 (Conv2D)        (None, 28, 28, 512)       1180160   \n",
      "_________________________________________________________________\n",
      "block4_conv2 (Conv2D)        (None, 28, 28, 512)       2359808   \n",
      "_________________________________________________________________\n",
      "block4_conv3 (Conv2D)        (None, 28, 28, 512)       2359808   \n",
      "_________________________________________________________________\n",
      "block4_pool (MaxPooling2D)   (None, 14, 14, 512)       0         \n",
      "_________________________________________________________________\n",
      "block5_conv1 (Conv2D)        (None, 14, 14, 512)       2359808   \n",
      "_________________________________________________________________\n",
      "block5_conv2 (Conv2D)        (None, 14, 14, 512)       2359808   \n",
      "_________________________________________________________________\n",
      "block5_conv3 (Conv2D)        (None, 14, 14, 512)       2359808   \n",
      "_________________________________________________________________\n",
      "block5_pool (MaxPooling2D)   (None, 7, 7, 512)         0         \n",
      "_________________________________________________________________\n",
      "flatten (Flatten)            (None, 25088)             0         \n",
      "_________________________________________________________________\n",
      "fc1 (Dense)                  (None, 4096)              102764544 \n",
      "_________________________________________________________________\n",
      "fc2 (Dense)                  (None, 4096)              16781312  \n",
      "_________________________________________________________________\n",
      "predictions (Dense)          (None, 1000)              4097000   \n",
      "=================================================================\n",
      "Total params: 138,357,544\n",
      "Trainable params: 138,357,544\n",
      "Non-trainable params: 0\n",
      "_________________________________________________________________\n"
     ]
    }
   ],
   "source": [
    "based_vgg = tf.keras.applications.VGG16(include_top=True, weights='imagenet', input_shape=(224, 224, 3))\n",
    "\n",
    "based_vgg.summary()"
   ]
  },
  {
   "cell_type": "markdown",
   "id": "e1f84bdc",
   "metadata": {},
   "source": [
    "# Extract layers"
   ]
  },
  {
   "cell_type": "code",
   "execution_count": 8,
   "id": "ddaa31b3",
   "metadata": {},
   "outputs": [
    {
     "data": {
      "text/plain": [
       "<tensorflow.python.keras.layers.core.Flatten at 0x2547f0e4a58>"
      ]
     },
     "execution_count": 8,
     "metadata": {},
     "output_type": "execute_result"
    }
   ],
   "source": [
    "new_model = []\n",
    "\n",
    "for l in based_vgg.layers[:-1]:\n",
    "    new_model.append(l)\n",
    "    \n",
    "new_model.pop(-3)"
   ]
  },
  {
   "cell_type": "code",
   "execution_count": 9,
   "id": "09a179d3",
   "metadata": {
    "scrolled": false
   },
   "outputs": [
    {
     "data": {
      "text/plain": [
       "[<tensorflow.python.keras.engine.input_layer.InputLayer at 0x2547b53be80>,\n",
       " <tensorflow.python.keras.layers.convolutional.Conv2D at 0x2547b526908>,\n",
       " <tensorflow.python.keras.layers.convolutional.Conv2D at 0x2547b583860>,\n",
       " <tensorflow.python.keras.layers.pooling.MaxPooling2D at 0x2547b583c18>,\n",
       " <tensorflow.python.keras.layers.convolutional.Conv2D at 0x2547b5c1908>,\n",
       " <tensorflow.python.keras.layers.convolutional.Conv2D at 0x2547b5de780>,\n",
       " <tensorflow.python.keras.layers.pooling.MaxPooling2D at 0x2547b5de860>,\n",
       " <tensorflow.python.keras.layers.convolutional.Conv2D at 0x2547b5e93c8>,\n",
       " <tensorflow.python.keras.layers.convolutional.Conv2D at 0x2547b5e9f98>,\n",
       " <tensorflow.python.keras.layers.convolutional.Conv2D at 0x2547f0b0668>,\n",
       " <tensorflow.python.keras.layers.pooling.MaxPooling2D at 0x2547f0b7160>,\n",
       " <tensorflow.python.keras.layers.convolutional.Conv2D at 0x2547f0b7a20>,\n",
       " <tensorflow.python.keras.layers.convolutional.Conv2D at 0x2547f0c1898>,\n",
       " <tensorflow.python.keras.layers.convolutional.Conv2D at 0x2547f0c1940>,\n",
       " <tensorflow.python.keras.layers.pooling.MaxPooling2D at 0x2547f0cc898>,\n",
       " <tensorflow.python.keras.layers.convolutional.Conv2D at 0x2547f0ce0b8>,\n",
       " <tensorflow.python.keras.layers.convolutional.Conv2D at 0x2547f0ceef0>,\n",
       " <tensorflow.python.keras.layers.convolutional.Conv2D at 0x2547f0db2e8>,\n",
       " <tensorflow.python.keras.layers.pooling.MaxPooling2D at 0x2547f0dbbe0>,\n",
       " <tensorflow.python.keras.layers.core.Dense at 0x2547f0ec278>,\n",
       " <tensorflow.python.keras.layers.core.Dense at 0x2547f0ec550>]"
      ]
     },
     "execution_count": 9,
     "metadata": {},
     "output_type": "execute_result"
    }
   ],
   "source": [
    "new_model"
   ]
  },
  {
   "cell_type": "markdown",
   "id": "909047ef",
   "metadata": {},
   "source": [
    "# get weights, bias"
   ]
  },
  {
   "cell_type": "code",
   "execution_count": 48,
   "id": "72a61999",
   "metadata": {},
   "outputs": [
    {
     "name": "stdout",
     "output_type": "stream",
     "text": [
      "<tensorflow.python.keras.layers.convolutional.Conv2D object at 0x000002547B526908> (3, 3, 3, 64) (64,)\n",
      "<tensorflow.python.keras.layers.convolutional.Conv2D object at 0x000002547B583860> (3, 3, 64, 64) (64,)\n",
      "<tensorflow.python.keras.layers.convolutional.Conv2D object at 0x000002547B5C1908> (3, 3, 64, 128) (128,)\n",
      "<tensorflow.python.keras.layers.convolutional.Conv2D object at 0x000002547B5DE780> (3, 3, 128, 128) (128,)\n",
      "<tensorflow.python.keras.layers.convolutional.Conv2D object at 0x000002547B5E93C8> (3, 3, 128, 256) (256,)\n",
      "<tensorflow.python.keras.layers.convolutional.Conv2D object at 0x000002547B5E9F98> (3, 3, 256, 256) (256,)\n",
      "<tensorflow.python.keras.layers.convolutional.Conv2D object at 0x000002547F0B0668> (3, 3, 256, 256) (256,)\n",
      "<tensorflow.python.keras.layers.convolutional.Conv2D object at 0x000002547F0B7A20> (3, 3, 256, 512) (512,)\n",
      "<tensorflow.python.keras.layers.convolutional.Conv2D object at 0x000002547F0C1898> (3, 3, 512, 512) (512,)\n",
      "<tensorflow.python.keras.layers.convolutional.Conv2D object at 0x000002547F0C1940> (3, 3, 512, 512) (512,)\n",
      "<tensorflow.python.keras.layers.convolutional.Conv2D object at 0x000002547F0CE0B8> (3, 3, 512, 512) (512,)\n",
      "<tensorflow.python.keras.layers.convolutional.Conv2D object at 0x000002547F0CEEF0> (3, 3, 512, 512) (512,)\n",
      "<tensorflow.python.keras.layers.convolutional.Conv2D object at 0x000002547F0DB2E8> (3, 3, 512, 512) (512,)\n",
      "<tensorflow.python.keras.layers.core.Dense object at 0x000002547F0EC278> (7, 7, 512, 4096) (4096,)\n",
      "<tensorflow.python.keras.layers.core.Dense object at 0x000002547F0EC550> (1, 1, 4096, 4096) (4096,)\n"
     ]
    }
   ],
   "source": [
    "save_weights = []\n",
    "\n",
    "for layer in new_model[1:]:\n",
    "    if layer.trainable_weights:\n",
    "        weight, bias = layer.get_weights()[0], layer.get_weights()[1]\n",
    "        if len(weight.shape) != 4:\n",
    "            if weight.shape[0] == 25088:\n",
    "                weight = np.reshape(layer.get_weights()[0], (7, 7, 512, 4096))\n",
    "            else:\n",
    "                weight = np.reshape(layer.get_weights()[0], (1, 1, 4096, 4096))\n",
    "    else:\n",
    "        continue\n",
    "            \n",
    "    print(layer, weight.shape, bias.shape)\n",
    "    save_weights.append([weight, bias])"
   ]
  },
  {
   "cell_type": "code",
   "execution_count": 49,
   "id": "d2cf6242",
   "metadata": {},
   "outputs": [
    {
     "data": {
      "text/plain": [
       "15"
      ]
     },
     "execution_count": 49,
     "metadata": {},
     "output_type": "execute_result"
    }
   ],
   "source": [
    "len(save_weights)"
   ]
  },
  {
   "cell_type": "markdown",
   "id": "ad491874",
   "metadata": {},
   "source": [
    "# Define based layers"
   ]
  },
  {
   "cell_type": "code",
   "execution_count": 41,
   "id": "5457b0e0",
   "metadata": {},
   "outputs": [],
   "source": [
    "def define_network(version):\n",
    "    if version == 'fcn32':\n",
    "        input_image = layers.Input(shape=(224, 224, 3))\n",
    "\n",
    "        # Block 1\n",
    "        out = layers.Conv2D(64, 3, 1, activation='relu', padding='same', kernel_regularizer=tf.keras.regularizers.L2(0.0005))(input_image)\n",
    "        out = layers.Conv2D(64, 3, 1, activation='relu', padding='same', kernel_regularizer=tf.keras.regularizers.L2(0.0005))(out)\n",
    "        out = layers.MaxPooling2D(pool_size=(2, 2), strides=(2, 2))(out)\n",
    "\n",
    "        # Block 2\n",
    "        out = layers.Conv2D(128, 3, 1, activation='relu', padding='same', kernel_regularizer=tf.keras.regularizers.L2(0.0005))(out)\n",
    "        out = layers.Conv2D(128, 3, 1, activation='relu', padding='same', kernel_regularizer=tf.keras.regularizers.L2(0.0005))(out)\n",
    "        out = layers.MaxPooling2D(pool_size=(2, 2), strides=(2, 2))(out)\n",
    "\n",
    "        # Block 3\n",
    "        out = layers.Conv2D(256, 3, 1, activation='relu', padding='same', kernel_regularizer=tf.keras.regularizers.L2(0.0005))(out)\n",
    "        out = layers.Conv2D(256, 3, 1, activation='relu', padding='same', kernel_regularizer=tf.keras.regularizers.L2(0.0005))(out)\n",
    "        out = layers.Conv2D(256, 3, 1, activation='relu', padding='same', kernel_regularizer=tf.keras.regularizers.L2(0.0005))(out)\n",
    "        out = layers.MaxPooling2D(pool_size=(2, 2), strides=(2, 2))(out)\n",
    "\n",
    "        # Block 4\n",
    "        out = layers.Conv2D(512, 3, 1, activation='relu', padding='same', kernel_regularizer=tf.keras.regularizers.L2(0.0005))(out)\n",
    "        out = layers.Conv2D(512, 3, 1, activation='relu', padding='same', kernel_regularizer=tf.keras.regularizers.L2(0.0005))(out)\n",
    "        out = layers.Conv2D(512, 3, 1, activation='relu', padding='same', kernel_regularizer=tf.keras.regularizers.L2(0.0005))(out)\n",
    "        out = layers.MaxPooling2D(pool_size=(2, 2), strides=(2, 2))(out)\n",
    "\n",
    "        # Block 5\n",
    "        out = layers.Conv2D(512, 3, 1, activation='relu', padding='same', kernel_regularizer=tf.keras.regularizers.L2(0.0005))(out)\n",
    "        out = layers.Conv2D(512, 3, 1, activation='relu', padding='same', kernel_regularizer=tf.keras.regularizers.L2(0.0005))(out)\n",
    "        out = layers.Conv2D(512, 3, 1, activation='relu', padding='same', kernel_regularizer=tf.keras.regularizers.L2(0.0005))(out)\n",
    "        out = layers.MaxPooling2D(pool_size=(2, 2), strides=(2, 2))(out)\n",
    "\n",
    "        # convolutionalization layers\n",
    "        out = layers.Conv2D(4096, 7, 1, activation='relu', padding='same', kernel_regularizer=tf.keras.regularizers.L2(0.0005))(out)\n",
    "        out = layers.Dropout(0.5)(out)\n",
    "        out = layers.Conv2D(4096, 1, 1, activation='relu', padding='same', kernel_regularizer=tf.keras.regularizers.L2(0.0005))(out)\n",
    "        out = layers.Dropout(0.5)(out)\n",
    "        \n",
    "        # final output\n",
    "        out = layers.Conv2D(21, 1, 1, kernel_regularizer=tf.keras.regularizers.L2(0.0005))(out)\n",
    "        final = layers.Conv2DTranspose(21, 64, 32, padding='same')(out) # Up sampling layers\n",
    "        \n",
    "        model = tf.keras.models.Model(inputs=input_image, outputs=final)\n",
    "\n",
    "    elif version == 'fcn16':\n",
    "        input_image = layers.Input(shape=(224, 224, 3))\n",
    "\n",
    "        # Block 1\n",
    "        out = layers.Conv2D(64, 3, 1, activation='relu', padding='same', kernel_regularizer=tf.keras.regularizers.L2(0.0005))(input_image)\n",
    "        out = layers.Conv2D(64, 3, 1, activation='relu', padding='same', kernel_regularizer=tf.keras.regularizers.L2(0.0005))(out)\n",
    "        out = layers.MaxPooling2D(pool_size=(2, 2), strides=(2, 2))(out)\n",
    "\n",
    "        # Block 2\n",
    "        out = layers.Conv2D(128, 3, 1, activation='relu', padding='same', kernel_regularizer=tf.keras.regularizers.L2(0.0005))(out)\n",
    "        out = layers.Conv2D(128, 3, 1, activation='relu', padding='same', kernel_regularizer=tf.keras.regularizers.L2(0.0005))(out)\n",
    "        out = layers.MaxPooling2D(pool_size=(2, 2), strides=(2, 2))(out)\n",
    "\n",
    "        # Block 3\n",
    "        out = layers.Conv2D(256, 3, 1, activation='relu', padding='same', kernel_regularizer=tf.keras.regularizers.L2(0.0005))(out)\n",
    "        out = layers.Conv2D(256, 3, 1, activation='relu', padding='same', kernel_regularizer=tf.keras.regularizers.L2(0.0005))(out)\n",
    "        out = layers.Conv2D(256, 3, 1, activation='relu', padding='same', kernel_regularizer=tf.keras.regularizers.L2(0.0005))(out)\n",
    "        out = layers.MaxPooling2D(pool_size=(2, 2), strides=(2, 2))(out)\n",
    "\n",
    "        # Block 4\n",
    "        out = layers.Conv2D(512, 3, 1, activation='relu', padding='same', kernel_regularizer=tf.keras.regularizers.L2(0.0005))(out)\n",
    "        out = layers.Conv2D(512, 3, 1, activation='relu', padding='same', kernel_regularizer=tf.keras.regularizers.L2(0.0005))(out)\n",
    "        out = layers.Conv2D(512, 3, 1, activation='relu', padding='same', kernel_regularizer=tf.keras.regularizers.L2(0.0005))(out)\n",
    "        b4_pool = layers.MaxPooling2D(pool_size=(2, 2), strides=(2, 2))(out)\n",
    "\n",
    "        # Block 5\n",
    "        out = layers.Conv2D(512, 3, 1, activation='relu', padding='same', kernel_regularizer=tf.keras.regularizers.L2(0.0005))(b4_pool)\n",
    "        out = layers.Conv2D(512, 3, 1, activation='relu', padding='same', kernel_regularizer=tf.keras.regularizers.L2(0.0005))(out)\n",
    "        out = layers.Conv2D(512, 3, 1, activation='relu', padding='same', kernel_regularizer=tf.keras.regularizers.L2(0.0005))(out)\n",
    "        out = layers.MaxPooling2D(pool_size=(2, 2), strides=(2, 2))(out)\n",
    "\n",
    "        # convolutionalization layers\n",
    "        out = layers.Conv2D(4096, 7, 1, activation='relu', padding='same', kernel_regularizer=tf.keras.regularizers.L2(0.0005))(out)\n",
    "        out = layers.Dropout(0.5)(out)\n",
    "        out = layers.Conv2D(4096, 1, 1, activation='relu', padding='same', kernel_regularizer=tf.keras.regularizers.L2(0.0005))(out)\n",
    "        out = layers.Dropout(0.5)(out)\n",
    "        \n",
    "        # transpose layer\n",
    "        out = layers.Conv2D(21, 1, 1, kernel_regularizer=tf.keras.regularizers.L2(0.0005))(out)\n",
    "        out = layers.Conv2DTranspose(21, 4, 2, padding='same')(out)\n",
    "        pool_out = layers.Conv2D(21, 1, 1)(b4_pool)\n",
    "        add_out = layers.Add()([out, pool_out])\n",
    "        \n",
    "        # final output\n",
    "        final = layers.Conv2DTranspose(21, 32, 16, padding='same')(out)\n",
    "        \n",
    "        model = tf.keras.models.Model(inputs=input_image, outputs=final)\n",
    "        \n",
    "    elif version == 'fcn8':\n",
    "        input_image = layers.Input(shape=(224, 224, 3))\n",
    "\n",
    "        # Block 1\n",
    "        out = layers.Conv2D(64, 3, 1, activation='relu', padding='same', kernel_regularizer=tf.keras.regularizers.L2(0.0005))(input_image)\n",
    "        out = layers.Conv2D(64, 3, 1, activation='relu', padding='same', kernel_regularizer=tf.keras.regularizers.L2(0.0005))(out)\n",
    "        out = layers.MaxPooling2D(pool_size=(2, 2), strides=(2, 2))(out)\n",
    "\n",
    "        # Block 2\n",
    "        out = layers.Conv2D(128, 3, 1, activation='relu', padding='same', kernel_regularizer=tf.keras.regularizers.L2(0.0005))(out)\n",
    "        out = layers.Conv2D(128, 3, 1, activation='relu', padding='same', kernel_regularizer=tf.keras.regularizers.L2(0.0005))(out)\n",
    "        out = layers.MaxPooling2D(pool_size=(2, 2), strides=(2, 2))(out)\n",
    "\n",
    "        # Block 3\n",
    "        out = layers.Conv2D(256, 3, 1, activation='relu', padding='same', kernel_regularizer=tf.keras.regularizers.L2(0.0005))(out)\n",
    "        out = layers.Conv2D(256, 3, 1, activation='relu', padding='same', kernel_regularizer=tf.keras.regularizers.L2(0.0005))(out)\n",
    "        out = layers.Conv2D(256, 3, 1, activation='relu', padding='same', kernel_regularizer=tf.keras.regularizers.L2(0.0005))(out)\n",
    "        b3_pool = layers.MaxPooling2D(pool_size=(2, 2), strides=(2, 2))(out)\n",
    "\n",
    "        # Block 4\n",
    "        out = layers.Conv2D(512, 3, 1, activation='relu', padding='same', kernel_regularizer=tf.keras.regularizers.L2(0.0005))(b3_pool)\n",
    "        out = layers.Conv2D(512, 3, 1, activation='relu', padding='same', kernel_regularizer=tf.keras.regularizers.L2(0.0005))(out)\n",
    "        out = layers.Conv2D(512, 3, 1, activation='relu', padding='same', kernel_regularizer=tf.keras.regularizers.L2(0.0005))(out)\n",
    "        b4_pool = layers.MaxPooling2D(pool_size=(2, 2), strides=(2, 2))(out)\n",
    "\n",
    "        # Block 5\n",
    "        out = layers.Conv2D(512, 3, 1, activation='relu', padding='same', kernel_regularizer=tf.keras.regularizers.L2(0.0005))(b4_pool)\n",
    "        out = layers.Conv2D(512, 3, 1, activation='relu', padding='same', kernel_regularizer=tf.keras.regularizers.L2(0.0005))(out)\n",
    "        out = layers.Conv2D(512, 3, 1, activation='relu', padding='same', kernel_regularizer=tf.keras.regularizers.L2(0.0005))(out)\n",
    "        out = layers.MaxPooling2D(pool_size=(2, 2), strides=(2, 2))(out)\n",
    "\n",
    "        # convolutionalization layers\n",
    "        out = layers.Conv2D(4096, 7, 1, activation='relu', padding='same', kernel_regularizer=tf.keras.regularizers.L2(0.0005))(out)\n",
    "        out = layers.Dropout(0.5)(out)\n",
    "        out = layers.Conv2D(4096, 1, 1, activation='relu', padding='same', kernel_regularizer=tf.keras.regularizers.L2(0.0005))(out)\n",
    "        out = layers.Dropout(0.5)(out)\n",
    "        \n",
    "        # transpose layer 1 \n",
    "        out = layers.Conv2D(21, 1, 1, kernel_regularizer=tf.keras.regularizers.L2(0.0005))(out)\n",
    "        out = layers.Conv2DTranspose(21, 4, 2, padding='same')(out)\n",
    "        pool_out = layers.Conv2D(21, 1, 1)(b4_pool)\n",
    "        add_out = layers.Add()([out, pool_out])\n",
    "        \n",
    "        # transpose layer 2\n",
    "        out = layers.Conv2DTranspose(21, 4, 2, padding='same')(add_out)\n",
    "        pool_out = layers.Conv2D(21, 1, 1)(b3_pool)\n",
    "        add_out = layers.Add()([out, pool_out])\n",
    "        \n",
    "        # final output\n",
    "        final = layers.Conv2DTranspose(21, 16, 8, padding='same')(add_out)\n",
    "        \n",
    "        model = tf.keras.models.Model(inputs=input_image, outputs=final)\n",
    "        \n",
    "    return model"
   ]
  },
  {
   "cell_type": "code",
   "execution_count": 50,
   "id": "5bd759db",
   "metadata": {},
   "outputs": [],
   "source": [
    "model = define_network('fcn32')"
   ]
  },
  {
   "cell_type": "code",
   "execution_count": 51,
   "id": "67ea9eea",
   "metadata": {
    "scrolled": true
   },
   "outputs": [
    {
     "name": "stdout",
     "output_type": "stream",
     "text": [
      "Model: \"functional_11\"\n",
      "_________________________________________________________________\n",
      "Layer (type)                 Output Shape              Param #   \n",
      "=================================================================\n",
      "input_9 (InputLayer)         [(None, 224, 224, 3)]     0         \n",
      "_________________________________________________________________\n",
      "conv2d_101 (Conv2D)          (None, 224, 224, 64)      1792      \n",
      "_________________________________________________________________\n",
      "conv2d_102 (Conv2D)          (None, 224, 224, 64)      36928     \n",
      "_________________________________________________________________\n",
      "max_pooling2d_35 (MaxPooling (None, 112, 112, 64)      0         \n",
      "_________________________________________________________________\n",
      "conv2d_103 (Conv2D)          (None, 112, 112, 128)     73856     \n",
      "_________________________________________________________________\n",
      "conv2d_104 (Conv2D)          (None, 112, 112, 128)     147584    \n",
      "_________________________________________________________________\n",
      "max_pooling2d_36 (MaxPooling (None, 56, 56, 128)       0         \n",
      "_________________________________________________________________\n",
      "conv2d_105 (Conv2D)          (None, 56, 56, 256)       295168    \n",
      "_________________________________________________________________\n",
      "conv2d_106 (Conv2D)          (None, 56, 56, 256)       590080    \n",
      "_________________________________________________________________\n",
      "conv2d_107 (Conv2D)          (None, 56, 56, 256)       590080    \n",
      "_________________________________________________________________\n",
      "max_pooling2d_37 (MaxPooling (None, 28, 28, 256)       0         \n",
      "_________________________________________________________________\n",
      "conv2d_108 (Conv2D)          (None, 28, 28, 512)       1180160   \n",
      "_________________________________________________________________\n",
      "conv2d_109 (Conv2D)          (None, 28, 28, 512)       2359808   \n",
      "_________________________________________________________________\n",
      "conv2d_110 (Conv2D)          (None, 28, 28, 512)       2359808   \n",
      "_________________________________________________________________\n",
      "max_pooling2d_38 (MaxPooling (None, 14, 14, 512)       0         \n",
      "_________________________________________________________________\n",
      "conv2d_111 (Conv2D)          (None, 14, 14, 512)       2359808   \n",
      "_________________________________________________________________\n",
      "conv2d_112 (Conv2D)          (None, 14, 14, 512)       2359808   \n",
      "_________________________________________________________________\n",
      "conv2d_113 (Conv2D)          (None, 14, 14, 512)       2359808   \n",
      "_________________________________________________________________\n",
      "max_pooling2d_39 (MaxPooling (None, 7, 7, 512)         0         \n",
      "_________________________________________________________________\n",
      "conv2d_114 (Conv2D)          (None, 7, 7, 4096)        102764544 \n",
      "_________________________________________________________________\n",
      "dropout_14 (Dropout)         (None, 7, 7, 4096)        0         \n",
      "_________________________________________________________________\n",
      "conv2d_115 (Conv2D)          (None, 7, 7, 4096)        16781312  \n",
      "_________________________________________________________________\n",
      "dropout_15 (Dropout)         (None, 7, 7, 4096)        0         \n",
      "_________________________________________________________________\n",
      "conv2d_116 (Conv2D)          (None, 7, 7, 21)          86037     \n",
      "_________________________________________________________________\n",
      "conv2d_transpose_12 (Conv2DT (None, 224, 224, 21)      1806357   \n",
      "=================================================================\n",
      "Total params: 136,152,938\n",
      "Trainable params: 136,152,938\n",
      "Non-trainable params: 0\n",
      "_________________________________________________________________\n"
     ]
    }
   ],
   "source": [
    "model.summary()"
   ]
  },
  {
   "cell_type": "markdown",
   "id": "c8827726",
   "metadata": {},
   "source": [
    "# Set weights on FCN32"
   ]
  },
  {
   "cell_type": "code",
   "execution_count": 56,
   "id": "dd87b4b6",
   "metadata": {},
   "outputs": [],
   "source": [
    "num = 0\n",
    "\n",
    "for i in model.layers[1:-2]:\n",
    "    if i.trainable_weights:\n",
    "        i.set_weights([save_weights[num][0], save_weights[num][1]])\n",
    "        num += 1\n",
    "    else:\n",
    "        continue"
   ]
  },
  {
   "cell_type": "code",
   "execution_count": 57,
   "id": "b500a30a",
   "metadata": {
    "scrolled": true
   },
   "outputs": [
    {
     "name": "stdout",
     "output_type": "stream",
     "text": [
      "Model: \"functional_11\"\n",
      "_________________________________________________________________\n",
      "Layer (type)                 Output Shape              Param #   \n",
      "=================================================================\n",
      "input_9 (InputLayer)         [(None, 224, 224, 3)]     0         \n",
      "_________________________________________________________________\n",
      "conv2d_101 (Conv2D)          (None, 224, 224, 64)      1792      \n",
      "_________________________________________________________________\n",
      "conv2d_102 (Conv2D)          (None, 224, 224, 64)      36928     \n",
      "_________________________________________________________________\n",
      "max_pooling2d_35 (MaxPooling (None, 112, 112, 64)      0         \n",
      "_________________________________________________________________\n",
      "conv2d_103 (Conv2D)          (None, 112, 112, 128)     73856     \n",
      "_________________________________________________________________\n",
      "conv2d_104 (Conv2D)          (None, 112, 112, 128)     147584    \n",
      "_________________________________________________________________\n",
      "max_pooling2d_36 (MaxPooling (None, 56, 56, 128)       0         \n",
      "_________________________________________________________________\n",
      "conv2d_105 (Conv2D)          (None, 56, 56, 256)       295168    \n",
      "_________________________________________________________________\n",
      "conv2d_106 (Conv2D)          (None, 56, 56, 256)       590080    \n",
      "_________________________________________________________________\n",
      "conv2d_107 (Conv2D)          (None, 56, 56, 256)       590080    \n",
      "_________________________________________________________________\n",
      "max_pooling2d_37 (MaxPooling (None, 28, 28, 256)       0         \n",
      "_________________________________________________________________\n",
      "conv2d_108 (Conv2D)          (None, 28, 28, 512)       1180160   \n",
      "_________________________________________________________________\n",
      "conv2d_109 (Conv2D)          (None, 28, 28, 512)       2359808   \n",
      "_________________________________________________________________\n",
      "conv2d_110 (Conv2D)          (None, 28, 28, 512)       2359808   \n",
      "_________________________________________________________________\n",
      "max_pooling2d_38 (MaxPooling (None, 14, 14, 512)       0         \n",
      "_________________________________________________________________\n",
      "conv2d_111 (Conv2D)          (None, 14, 14, 512)       2359808   \n",
      "_________________________________________________________________\n",
      "conv2d_112 (Conv2D)          (None, 14, 14, 512)       2359808   \n",
      "_________________________________________________________________\n",
      "conv2d_113 (Conv2D)          (None, 14, 14, 512)       2359808   \n",
      "_________________________________________________________________\n",
      "max_pooling2d_39 (MaxPooling (None, 7, 7, 512)         0         \n",
      "_________________________________________________________________\n",
      "conv2d_114 (Conv2D)          (None, 7, 7, 4096)        102764544 \n",
      "_________________________________________________________________\n",
      "dropout_14 (Dropout)         (None, 7, 7, 4096)        0         \n",
      "_________________________________________________________________\n",
      "conv2d_115 (Conv2D)          (None, 7, 7, 4096)        16781312  \n",
      "_________________________________________________________________\n",
      "dropout_15 (Dropout)         (None, 7, 7, 4096)        0         \n",
      "_________________________________________________________________\n",
      "conv2d_116 (Conv2D)          (None, 7, 7, 21)          86037     \n",
      "_________________________________________________________________\n",
      "conv2d_transpose_12 (Conv2DT (None, 224, 224, 21)      1806357   \n",
      "=================================================================\n",
      "Total params: 136,152,938\n",
      "Trainable params: 136,152,938\n",
      "Non-trainable params: 0\n",
      "_________________________________________________________________\n"
     ]
    }
   ],
   "source": [
    "model.summary()"
   ]
  }
 ],
 "metadata": {
  "kernelspec": {
   "display_name": "py36",
   "language": "python",
   "name": "py36"
  },
  "language_info": {
   "codemirror_mode": {
    "name": "ipython",
    "version": 3
   },
   "file_extension": ".py",
   "mimetype": "text/x-python",
   "name": "python",
   "nbconvert_exporter": "python",
   "pygments_lexer": "ipython3",
   "version": "3.6.13"
  }
 },
 "nbformat": 4,
 "nbformat_minor": 5
}
